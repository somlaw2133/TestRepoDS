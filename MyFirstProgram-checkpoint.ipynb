{
 "cells": [
  {
   "cell_type": "markdown",
   "id": "3c8a14d2-c42e-4863-a58e-68ac5c339b90",
   "metadata": {},
   "source": [
    "1+1"
   ]
  },
  {
   "cell_type": "markdown",
   "id": "dd96de7e-4212-4a7f-8e3f-bab6452ac9a6",
   "metadata": {},
   "source": [
    "#My"
   ]
  },
  {
   "cell_type": "markdown",
   "id": "1df3ea89-a274-4a4f-9bee-9a2667c96250",
   "metadata": {},
   "source": [
    "##My first program"
   ]
  },
  {
   "cell_type": "markdown",
   "id": "0f4c3795-bb24-4a48-90e9-fc8c1b60a95d",
   "metadata": {},
   "source": [
    "# My first of many Programs "
   ]
  },
  {
   "cell_type": "markdown",
   "id": "e17119ea-bb18-4e20-8648-ae8bae335ebd",
   "metadata": {},
   "source": [
    "# My first\n",
    "## My first of many\n",
    "### My first of many programs"
   ]
  },
  {
   "cell_type": "markdown",
   "id": "c2e6d15e-1715-4796-8330-80bb294280e0",
   "metadata": {},
   "source": [
    "* MY FIRST OF MANY\n"
   ]
  },
  {
   "cell_type": "code",
   "execution_count": 2,
   "id": "d4a0237d-ac6c-41d6-9566-0c2ad6226ff3",
   "metadata": {},
   "outputs": [
    {
     "ename": "SyntaxError",
     "evalue": "invalid syntax (2648966350.py, line 1)",
     "output_type": "error",
     "traceback": [
      "  \u001b[36mCell\u001b[39m\u001b[36m \u001b[39m\u001b[32mIn[2]\u001b[39m\u001b[32m, line 1\u001b[39m\n\u001b[31m    \u001b[39m\u001b[31m** Using double astericks\u001b[39m\n    ^\n\u001b[31mSyntaxError\u001b[39m\u001b[31m:\u001b[39m invalid syntax\n"
     ]
    }
   ],
   "source": [
    "** Using double astericks"
   ]
  },
  {
   "cell_type": "code",
   "execution_count": 3,
   "id": "57a07ded-5339-4639-84e8-b09c373425fc",
   "metadata": {},
   "outputs": [
    {
     "ename": "SyntaxError",
     "evalue": "invalid syntax (4048476394.py, line 1)",
     "output_type": "error",
     "traceback": [
      "  \u001b[36mCell\u001b[39m\u001b[36m \u001b[39m\u001b[32mIn[3]\u001b[39m\u001b[32m, line 1\u001b[39m\n\u001b[31m    \u001b[39m\u001b[31m* Using single astericks\u001b[39m\n            ^\n\u001b[31mSyntaxError\u001b[39m\u001b[31m:\u001b[39m invalid syntax\n"
     ]
    }
   ],
   "source": [
    "* Using single astericks"
   ]
  },
  {
   "cell_type": "code",
   "execution_count": 4,
   "id": "8cd74a22-3b59-4b64-9f6c-2d15345d6429",
   "metadata": {},
   "outputs": [
    {
     "ename": "SyntaxError",
     "evalue": "invalid syntax (796671574.py, line 1)",
     "output_type": "error",
     "traceback": [
      "  \u001b[36mCell\u001b[39m\u001b[36m \u001b[39m\u001b[32mIn[4]\u001b[39m\u001b[32m, line 1\u001b[39m\n\u001b[31m    \u001b[39m\u001b[31m*\u001b[39m\n     ^\n\u001b[31mSyntaxError\u001b[39m\u001b[31m:\u001b[39m invalid syntax\n"
     ]
    }
   ],
   "source": [
    "*"
   ]
  },
  {
   "cell_type": "code",
   "execution_count": 5,
   "id": "d48c5e55-4519-4a0c-8ea1-79514d5a563a",
   "metadata": {},
   "outputs": [
    {
     "ename": "SyntaxError",
     "evalue": "invalid syntax (732616097.py, line 1)",
     "output_type": "error",
     "traceback": [
      "  \u001b[36mCell\u001b[39m\u001b[36m \u001b[39m\u001b[32mIn[5]\u001b[39m\u001b[32m, line 1\u001b[39m\n\u001b[31m    \u001b[39m\u001b[31m*Using single astericks\u001b[39m\n           ^\n\u001b[31mSyntaxError\u001b[39m\u001b[31m:\u001b[39m invalid syntax\n"
     ]
    }
   ],
   "source": [
    "*Using single astericks"
   ]
  },
  {
   "cell_type": "markdown",
   "id": "95f84a15-f33c-4d89-b1e7-28984237ab60",
   "metadata": {},
   "source": [
    "* Using single astericks"
   ]
  },
  {
   "cell_type": "markdown",
   "id": "86b12c74-c1fe-4b33-b155-59bc10cf36ec",
   "metadata": {},
   "source": [
    "* Using single asterick at the beginning and end *\n",
    "_ Using sing underscore at the beginning and end *"
   ]
  },
  {
   "cell_type": "markdown",
   "id": "b7d65e05-b63e-4cf5-a9a3-c8beadf3e91b",
   "metadata": {},
   "source": [
    "*Text in italics using asterisk.*"
   ]
  },
  {
   "cell_type": "code",
   "execution_count": 6,
   "id": "d1e41402-6c6f-43a2-84e9-27c7948c978d",
   "metadata": {},
   "outputs": [
    {
     "ename": "SyntaxError",
     "evalue": "invalid syntax (1564201544.py, line 1)",
     "output_type": "error",
     "traceback": [
      "  \u001b[36mCell\u001b[39m\u001b[36m \u001b[39m\u001b[32mIn[6]\u001b[39m\u001b[32m, line 1\u001b[39m\n\u001b[31m    \u001b[39m\u001b[31m*Using single astericks at beginning and end.*\u001b[39m\n           ^\n\u001b[31mSyntaxError\u001b[39m\u001b[31m:\u001b[39m invalid syntax\n"
     ]
    }
   ],
   "source": [
    "*Using single astericks at beginning and end.*\n",
    "_Using single underscore at the beggining and end_"
   ]
  },
  {
   "cell_type": "markdown",
   "id": "3901656b-e497-4ff7-ba25-2e5ec94d3763",
   "metadata": {},
   "source": [
    "*Using single astericks at beginning and end.*\n",
    "_Using single underscore at the beggining and end_"
   ]
  },
  {
   "cell_type": "code",
   "execution_count": 7,
   "id": "68952bec-3792-41d4-a393-30f5b89ea645",
   "metadata": {},
   "outputs": [
    {
     "ename": "SyntaxError",
     "evalue": "invalid syntax (2264780097.py, line 1)",
     "output_type": "error",
     "traceback": [
      "  \u001b[36mCell\u001b[39m\u001b[36m \u001b[39m\u001b[32mIn[7]\u001b[39m\u001b[32m, line 1\u001b[39m\n\u001b[31m    \u001b[39m\u001b[31m***Bold and italic text astericks***\u001b[39m\n    ^\n\u001b[31mSyntaxError\u001b[39m\u001b[31m:\u001b[39m invalid syntax\n"
     ]
    }
   ],
   "source": [
    "***Bold and italic text astericks***"
   ]
  },
  {
   "cell_type": "markdown",
   "id": "3e6566d1-c8ac-4a06-9996-76e1910e07f3",
   "metadata": {},
   "source": [
    "***Bold and italic text astericks***\n"
   ]
  },
  {
   "cell_type": "markdown",
   "id": "13d61b96-0848-46d8-b984-43934a517878",
   "metadata": {},
   "source": [
    "___Bold and italic underscore___"
   ]
  },
  {
   "cell_type": "markdown",
   "id": "3e4bbfec-5331-47e8-8228-3ed41988ab01",
   "metadata": {},
   "source": [
    "[Skills Network](https://skills.network/) "
   ]
  },
  {
   "cell_type": "markdown",
   "id": "6c6ca573-e7b3-4b8d-a20b-fc7b0f7e862e",
   "metadata": {},
   "source": [
    "# How to execute images\n",
    "Logo: ![This is the skills network logo](https://cf-courses-data.s3.us.cloud-object-storage.appdomain.cloud/assets/logos/SN_web_lightmode.png)"
   ]
  },
  {
   "cell_type": "markdown",
   "id": "79c4c71c-c42b-4c31-8709-6b73a452f7ea",
   "metadata": {},
   "source": [
    "# How to do Column\n",
    "|Country | Capital|\n",
    "|---------|-----|\n",
    "|United States|Washington|\n",
    "|India | New Delhi  |\n",
    "|Australia|Canbera |\n"
   ]
  },
  {
   "cell_type": "code",
   "execution_count": 1,
   "id": "3f160024-fa00-42b3-b686-912eb4b5b3c9",
   "metadata": {},
   "outputs": [
    {
     "name": "stdout",
     "output_type": "stream",
     "text": [
      "10\n",
      "25\n"
     ]
    }
   ],
   "source": [
    "x= min(10,25)\n",
    "y=max(5,10,25)\n",
    "print(x)\n",
    "print(y)"
   ]
  },
  {
   "cell_type": "code",
   "execution_count": 2,
   "id": "834be0c3-43d9-4a12-8678-3cf73a6720de",
   "metadata": {},
   "outputs": [
    {
     "name": "stdout",
     "output_type": "stream",
     "text": [
      "64\n"
     ]
    }
   ],
   "source": [
    "x= pow(4,3)\n",
    "print(x)"
   ]
  },
  {
   "cell_type": "code",
   "execution_count": null,
   "id": "1c3450d8-bb0f-48d5-94cb-dabe4584f432",
   "metadata": {},
   "outputs": [],
   "source": []
  }
 ],
 "metadata": {
  "kernelspec": {
   "display_name": "Python 3 (ipykernel)",
   "language": "python",
   "name": "python3"
  },
  "language_info": {
   "codemirror_mode": {
    "name": "ipython",
    "version": 3
   },
   "file_extension": ".py",
   "mimetype": "text/x-python",
   "name": "python",
   "nbconvert_exporter": "python",
   "pygments_lexer": "ipython3",
   "version": "3.13.5"
  }
 },
 "nbformat": 4,
 "nbformat_minor": 5
}
